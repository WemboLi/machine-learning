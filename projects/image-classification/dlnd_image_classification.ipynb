{
 "cells": [
  {
   "cell_type": "markdown",
   "metadata": {
    "collapsed": true
   },
   "source": [
    "# Image Classification\n",
    "In this project, you'll classify images from the [CIFAR-10 dataset](https://www.cs.toronto.edu/~kriz/cifar.html).  The dataset consists of airplanes, dogs, cats, and other objects. You'll preprocess the images, then train a convolutional neural network on all the samples. The images need to be normalized and the labels need to be one-hot encoded.  You'll get to apply what you learned and build a convolutional, max pooling, dropout, and fully connected layers.  At the end, you'll get to see your neural network's predictions on the sample images.\n",
    "## Get the Data\n",
    "Run the following cell to download the [CIFAR-10 dataset for python](https://www.cs.toronto.edu/~kriz/cifar-10-python.tar.gz)."
   ]
  },
  {
   "cell_type": "code",
   "execution_count": 1,
   "metadata": {},
   "outputs": [
    {
     "name": "stdout",
     "output_type": "stream",
     "text": [
      "All files found!\n"
     ]
    }
   ],
   "source": [
    "\"\"\"\n",
    "DON'T MODIFY ANYTHING IN THIS CELL THAT IS BELOW THIS LINE\n",
    "\"\"\"\n",
    "from urllib.request import urlretrieve\n",
    "from os.path import isfile, isdir\n",
    "from tqdm import tqdm\n",
    "import problem_unittests as tests\n",
    "import tarfile\n",
    "\n",
    "\n",
    "cifar10_dataset_folder_path = 'cifar-10-batches-py'\n",
    "\n",
    "class DLProgress(tqdm):\n",
    "    last_block = 0\n",
    "\n",
    "    def hook(self, block_num=1, block_size=1, total_size=None):\n",
    "        self.total = total_size\n",
    "        self.update((block_num - self.last_block) * block_size)\n",
    "        self.last_block = block_num\n",
    "\n",
    "'''\n",
    "if not isfile('cifar-10-python.tar.gz'):\n",
    "    with DLProgress(unit='B', unit_scale=True, miniters=1, desc='CIFAR-10 Dataset') as pbar:\n",
    "        urlretrieve(\n",
    "            'https://www.cs.toronto.edu/~kriz/cifar-10-python.tar.gz',\n",
    "            'cifar-10-python.tar.gz',\n",
    "            pbar.hook)\n",
    "    '''\n",
    "\n",
    "if not isdir(cifar10_dataset_folder_path):\n",
    "    with tarfile.open('cifar-10-python.tar.gz') as tar:\n",
    "        tar.extractall()\n",
    "        tar.close()\n",
    "\n",
    "\n",
    "tests.test_folder_path(cifar10_dataset_folder_path)"
   ]
  },
  {
   "cell_type": "markdown",
   "metadata": {},
   "source": [
    "## Explore the Data\n",
    "The dataset is broken into batches to prevent your machine from running out of memory.  The CIFAR-10 dataset consists of 5 batches, named `data_batch_1`, `data_batch_2`, etc.. Each batch contains the labels and images that are one of the following:\n",
    "* airplane\n",
    "* automobile\n",
    "* bird\n",
    "* cat\n",
    "* deer\n",
    "* dog\n",
    "* frog\n",
    "* horse\n",
    "* ship\n",
    "* truck\n",
    "\n",
    "Understanding a dataset is part of making predictions on the data.  Play around with the code cell below by changing the `batch_id` and `sample_id`. The `batch_id` is the id for a batch (1-5). The `sample_id` is the id for a image and label pair in the batch.\n",
    "\n",
    "Ask yourself \"What are all possible labels?\", \"What is the range of values for the image data?\", \"Are the labels in order or random?\".  Answers to questions like these will help you preprocess the data and end up with better predictions."
   ]
  },
  {
   "cell_type": "code",
   "execution_count": 2,
   "metadata": {},
   "outputs": [
    {
     "name": "stdout",
     "output_type": "stream",
     "text": [
      "\n",
      "Stats of batch 1:\n",
      "Samples: 10000\n",
      "Label Counts: {0: 1005, 1: 974, 2: 1032, 3: 1016, 4: 999, 5: 937, 6: 1030, 7: 1001, 8: 1025, 9: 981}\n",
      "First 20 Labels: [6, 9, 9, 4, 1, 1, 2, 7, 8, 3, 4, 7, 7, 2, 9, 9, 9, 3, 2, 6]\n",
      "\n",
      "Example of Image 5:\n",
      "Image - Min Value: 0 Max Value: 252\n",
      "Image - Shape: (32, 32, 3)\n",
      "Label - Label Id: 1 Name: automobile\n"
     ]
    },
    {
     "data": {
      "image/png": "[encoded data removed]",
      "text/plain": [
       "<matplotlib.figure.Figure at 0x7f9cbdcd6390>"
      ]
     },
     "metadata": {
      "image/png": {
       "height": 250,
       "width": 253
      }
     },
     "output_type": "display_data"
    }
   ],
   "source": [
    "%matplotlib inline\n",
    "%config InlineBackend.figure_format = 'retina'\n",
    "\n",
    "import helper\n",
    "import numpy as np\n",
    "\n",
    "# Explore the dataset\n",
    "batch_id = 1\n",
    "sample_id = 5\n",
    "helper.display_stats(cifar10_dataset_folder_path, batch_id, sample_id)"
   ]
  },
  {
   "cell_type": "markdown",
   "metadata": {},
   "source": [
    "## Implement Preprocess Functions\n",
    "### Normalize\n",
    "In the cell below, implement the `normalize` function to take in image data, `x`, and return it as a normalized Numpy array. The values should be in the range of 0 to 1, inclusive.  The return object should be the same shape as `x`."
   ]
  },
  {
   "cell_type": "code",
   "execution_count": 3,
   "metadata": {},
   "outputs": [
    {
     "name": "stdout",
     "output_type": "stream",
     "text": [
      "Tests Passed\n"
     ]
    }
   ],
   "source": [
    "def normalize(x):\n",
    "    \"\"\"\n",
    "    Normalize a list of sample image data in the range of 0 to 1\n",
    "    : x: List of image data.  The image shape is (32, 32, 3)\n",
    "    : return: Numpy array of normalize data\n",
    "    \"\"\"\n",
    "    # TODO: Implement Function\n",
    "    x_norm = x  / 255\n",
    "    return x_norm\n",
    "\n",
    "\n",
    "\"\"\"\n",
    "DON'T MODIFY ANYTHING IN THIS CELL THAT IS BELOW THIS LINE\n",
    "\"\"\"\n",
    "tests.test_normalize(normalize)"
   ]
  },
  {
   "cell_type": "markdown",
   "metadata": {},
   "source": [
    "### One-hot encode\n",
    "Just like the previous code cell, you'll be implementing a function for preprocessing.  This time, you'll implement the `one_hot_encode` function. The input, `x`, are a list of labels.  Implement the function to return the list of labels as One-Hot encoded Numpy array.  The possible values for labels are 0 to 9. The one-hot encoding function should return the same encoding for each value between each call to `one_hot_encode`.  Make sure to save the map of encodings outside the function.\n",
    "\n",
    "**Hint:**\n",
    "\n",
    "Look into LabelBinarizer in the preprocessing module of sklearn."
   ]
  },
  {
   "cell_type": "code",
   "execution_count": 4,
   "metadata": {},
   "outputs": [
    {
     "name": "stdout",
     "output_type": "stream",
     "text": [
      "Tests Passed\n"
     ]
    }
   ],
   "source": [
    "def one_hot_encode(x):\n",
    "    \"\"\"\n",
    "    One hot encode a list of sample labels. Return a one-hot encoded vector for each label.\n",
    "    : x: List of sample Labels\n",
    "    : return: Numpy array of one-hot encoded labels\n",
    "    \"\"\"\n",
    "    # TODO: Implement Function\n",
    "    \n",
    "    labels = np.zeros((len(x), 10), dtype = np.int)\n",
    "    \n",
    "    for i in range(len(x)):\n",
    "        labels[i, x[i]] = 1\n",
    "    \n",
    "    return labels\n",
    "\n",
    "\"\"\"\n",
    "DON'T MODIFY ANYTHING IN THIS CELL THAT IS BELOW THIS LINE\n",
    "\"\"\"\n",
    "\n",
    "tests.test_one_hot_encode(one_hot_encode)"
   ]
  },
  {
   "cell_type": "markdown",
   "metadata": {},
   "source": [
    "### Randomize Data\n",
    "As you saw from exploring the data above, the order of the samples are randomized.  It doesn't hurt to randomize it again, but you don't need to for this dataset."
   ]
  },
  {
   "cell_type": "markdown",
   "metadata": {},
   "source": [
    "## Preprocess all the data and save it\n",
    "Running the code cell below will preprocess all the CIFAR-10 data and save it to file. The code below also uses 10% of the training data for validation."
   ]
  },
  {
   "cell_type": "code",
   "execution_count": 5,
   "metadata": {
    "collapsed": true
   },
   "outputs": [],
   "source": [
    "\"\"\"\n",
    "DON'T MODIFY ANYTHING IN THIS CELL\n",
    "\"\"\"\n",
    "# Preprocess Training, Validation, and Testing Data\n",
    "helper.preprocess_and_save_data(cifar10_dataset_folder_path, normalize, one_hot_encode)"
   ]
  },
  {
   "cell_type": "markdown",
   "metadata": {},
   "source": [
    "# Check Point\n",
    "This is your first checkpoint.  If you ever decide to come back to this notebook or have to restart the notebook, you can start from here.  The preprocessed data has been saved to disk."
   ]
  },
  {
   "cell_type": "code",
   "execution_count": 6,
   "metadata": {
    "collapsed": true
   },
   "outputs": [],
   "source": [
    "\"\"\"\n",
    "DON'T MODIFY ANYTHING IN THIS CELL\n",
    "\"\"\"\n",
    "import pickle\n",
    "import problem_unittests as tests\n",
    "import helper\n",
    "\n",
    "# Load the Preprocessed Validation data\n",
    "valid_features, valid_labels = pickle.load(open('preprocess_validation.p', mode='rb'))"
   ]
  },
  {
   "cell_type": "markdown",
   "metadata": {},
   "source": [
    "## Build the network\n",
    "For the neural network, you'll build each layer into a function.  Most of the code you've seen has been outside of functions. To test your code more thoroughly, we require that you put each layer in a function.  This allows us to give you better feedback and test for simple mistakes using our unittests before you submit your project.\n",
    "\n",
    ">**Note:** If you're finding it hard to dedicate enough time for this course each week, we've provided a small shortcut to this part of the project. In the next couple of problems, you'll have the option to use classes from the [TensorFlow Layers](https://www.tensorflow.org/api_docs/python/tf/layers) or [TensorFlow Layers (contrib)](https://www.tensorflow.org/api_guides/python/contrib.layers) packages to build each layer, except the layers you build in the \"Convolutional and Max Pooling Layer\" section.  TF Layers is similar to Keras's and TFLearn's abstraction to layers, so it's easy to pickup.\n",
    "\n",
    ">However, if you would like to get the most out of this course, try to solve all the problems _without_ using anything from the TF Layers packages. You **can** still use classes from other packages that happen to have the same name as ones you find in TF Layers! For example, instead of using the TF Layers version of the `conv2d` class, [tf.layers.conv2d](https://www.tensorflow.org/api_docs/python/tf/layers/conv2d), you would want to use the TF Neural Network version of `conv2d`, [tf.nn.conv2d](https://www.tensorflow.org/api_docs/python/tf/nn/conv2d). \n",
    "\n",
    "Let's begin!\n",
    "\n",
    "### Input\n",
    "The neural network needs to read the image data, one-hot encoded labels, and dropout keep probability. Implement the following functions\n",
    "* Implement `neural_net_image_input`\n",
    " * Return a [TF Placeholder](https://www.tensorflow.org/api_docs/python/tf/placeholder)\n",
    " * Set the shape using `image_shape` with batch size set to `None`.\n",
    " * Name the TensorFlow placeholder \"x\" using the TensorFlow `name` parameter in the [TF Placeholder](https://www.tensorflow.org/api_docs/python/tf/placeholder).\n",
    "* Implement `neural_net_label_input`\n",
    " * Return a [TF Placeholder](https://www.tensorflow.org/api_docs/python/tf/placeholder)\n",
    " * Set the shape using `n_classes` with batch size set to `None`.\n",
    " * Name the TensorFlow placeholder \"y\" using the TensorFlow `name` parameter in the [TF Placeholder](https://www.tensorflow.org/api_docs/python/tf/placeholder).\n",
    "* Implement `neural_net_keep_prob_input`\n",
    " * Return a [TF Placeholder](https://www.tensorflow.org/api_docs/python/tf/placeholder) for dropout keep probability.\n",
    " * Name the TensorFlow placeholder \"keep_prob\" using the TensorFlow `name` parameter in the [TF Placeholder](https://www.tensorflow.org/api_docs/python/tf/placeholder).\n",
    "\n",
    "These names will be used at the end of the project to load your saved model.\n",
    "\n",
    "Note: `None` for shapes in TensorFlow allow for a dynamic size."
   ]
  },
  {
   "cell_type": "code",
   "execution_count": 7,
   "metadata": {},
   "outputs": [
    {
     "name": "stdout",
     "output_type": "stream",
     "text": [
      "Image Input Tests Passed.\n",
      "Label Input Tests Passed.\n",
      "Keep Prob Tests Passed.\n"
     ]
    }
   ],
   "source": [
    "import tensorflow as tf\n",
    "\n",
    "def neural_net_image_input(image_shape):\n",
    "    \"\"\"\n",
    "    Return a Tensor for a batch of image input\n",
    "    : image_shape: Shape of the images\n",
    "    : return: Tensor for image input.\n",
    "    \"\"\"\n",
    "    # TODO: Implement Function\n",
    "    x = tf.placeholder(tf.float32, shape = (None, image_shape[0], image_shape[1], image_shape[2]), name = \"x\")\n",
    "    return x\n",
    "\n",
    "\n",
    "def neural_net_label_input(n_classes):\n",
    "    \"\"\"\n",
    "    Return a Tensor for a batch of label input\n",
    "    : n_classes: Number of classes\n",
    "    : return: Tensor for label input.\n",
    "    \"\"\"\n",
    "    # TODO: Implement Function\n",
    "    \n",
    "    y = tf.placeholder(tf.int64, shape = (None, n_classes), name = 'y')\n",
    "    return y\n",
    "\n",
    "\n",
    "def neural_net_keep_prob_input():\n",
    "\n",
    "    \"\"\"\n",
    "    Return a Tensor for keep probability\n",
    "    : return: Tensor for keep probability.\n",
    "    \"\"\"\n",
    "    # TODO: Implement Function\n",
    "    keep_prob = tf.placeholder(tf.float32, name = 'keep_prob')\n",
    "    return keep_prob\n",
    "\n",
    "\"\"\"\n",
    "DON'T MODIFY ANYTHING IN THIS CELL THAT IS BELOW THIS LINE\n",
    "\"\"\"\n",
    "tf.reset_default_graph()\n",
    "tests.test_nn_image_inputs(neural_net_image_input)\n",
    "tests.test_nn_label_inputs(neural_net_label_input)\n",
    "tests.test_nn_keep_prob_inputs(neural_net_keep_prob_input)"
   ]
  },
  {
   "cell_type": "markdown",
   "metadata": {},
   "source": [
    "### Convolution and Max Pooling Layer\n",
    "Convolution layers have a lot of success with images. For this code cell, you should implement the function `conv2d_maxpool` to apply convolution then max pooling:\n",
    "* Create the weight and bias using `conv_ksize`, `conv_num_outputs` and the shape of `x_tensor`.\n",
    "* Apply a convolution to `x_tensor` using weight and `conv_strides`.\n",
    " * We recommend you use same padding, but you're welcome to use any padding.\n",
    "* Add bias\n",
    "* Add a nonlinear activation to the convolution.\n",
    "* Apply Max Pooling using `pool_ksize` and `pool_strides`.\n",
    " * We recommend you use same padding, but you're welcome to use any padding.\n",
    "\n",
    "**Note:** You **can't** use [TensorFlow Layers](https://www.tensorflow.org/api_docs/python/tf/layers) or [TensorFlow Layers (contrib)](https://www.tensorflow.org/api_guides/python/contrib.layers) for **this** layer, but you can still use TensorFlow's [Neural Network](https://www.tensorflow.org/api_docs/python/tf/nn) package. You may still use the shortcut option for all the **other** layers.\n",
    "\n",
    "** Hint: **\n",
    "\n",
    "When unpacking values as an argument in Python, look into the [unpacking](https://docs.python.org/3/tutorial/controlflow.html#unpacking-argument-lists) operator. "
   ]
  },
  {
   "cell_type": "code",
   "execution_count": 8,
   "metadata": {},
   "outputs": [
    {
     "name": "stdout",
     "output_type": "stream",
     "text": [
      "Tests Passed\n"
     ]
    }
   ],
   "source": [
    "def conv2d_maxpool(x_tensor, conv_num_outputs, conv_ksize, conv_strides, pool_ksize, pool_strides):\n",
    "    \"\"\"\n",
    "    Apply convolution then max pooling to x_tensor\n",
    "    :param x_tensor: TensorFlow Tensor\n",
    "    :param conv_num_outputs: Number of outputs for the convolutional layer\n",
    "    :param conv_ksize: kernal size 2-D Tuple for the convolutional layer\n",
    "    :param conv_strides: Stride 2-D Tuple for convolution\n",
    "    :param pool_ksize: kernal size 2-D Tuple for pool\n",
    "    :param pool_strides: Stride 2-D Tuple for pool\n",
    "    : return: A tensor that represents convolution and max pooling of x_tensor\n",
    "    \"\"\"\n",
    "    # TODO: Implement Function\n",
    "    num_channels = x_tensor.get_shape()[3].value\n",
    "    \n",
    "    wShape = [conv_ksize[0], conv_ksize[1], num_channels , conv_num_outputs]\n",
    "    \n",
    "    # weight = tf.get_variable('weight', wShape, initializer=tf.contrib.layers.xavier_initializer())\n",
    "    # bias = tf.get_variable('bias', conv_num_outputs, initializer=tf.contrib.layers.xavier_initializer())\n",
    "    \n",
    "    weight = tf.Variable(tf.truncated_normal(shape = wShape))\n",
    "    bias = tf.Variable(tf.constant(1.0, shape = [conv_num_outputs]))\n",
    "    \n",
    "    activations = tf.nn.conv2d(x_tensor, weight, [1, conv_strides[0], conv_strides[1], 1], 'SAME') + bias\n",
    "    \n",
    "    activations = tf.nn.sigmoid(activations)\n",
    "\n",
    "    pool = tf.nn.max_pool(activations, [1, pool_ksize[0], pool_ksize[1], 1], [1, pool_strides[0], pool_strides[1], 1], 'SAME')\n",
    "    \n",
    "    return pool \n",
    "\n",
    "\n",
    "\"\"\"\n",
    "DON'T MODIFY ANYTHING IN THIS CELL THAT IS BELOW THIS LINE\n",
    "\"\"\"\n",
    "tests.test_con_pool(conv2d_maxpool)"
   ]
  },
  {
   "cell_type": "markdown",
   "metadata": {},
   "source": [
    "### Flatten Layer\n",
    "Implement the `flatten` function to change the dimension of `x_tensor` from a 4-D tensor to a 2-D tensor.  The output should be the shape (*Batch Size*, *Flattened Image Size*). Shortcut option: you can use classes from the [TensorFlow Layers](https://www.tensorflow.org/api_docs/python/tf/layers) or [TensorFlow Layers (contrib)](https://www.tensorflow.org/api_guides/python/contrib.layers) packages for this layer. For more of a challenge, only use other TensorFlow packages."
   ]
  },
  {
   "cell_type": "code",
   "execution_count": 9,
   "metadata": {},
   "outputs": [
    {
     "name": "stdout",
     "output_type": "stream",
     "text": [
      "Tests Passed\n"
     ]
    }
   ],
   "source": [
    "def flatten(x_tensor):\n",
    "    \"\"\"\n",
    "    Flatten x_tensor to (Batch Size, Flattened Image Size)\n",
    "    : x_tensor: A tensor of size (Batch Size, ...), where ... are the image dimensions.\n",
    "    : return: A tensor of size (Batch Size, Flattened Image Size).\n",
    "    \"\"\"\n",
    "    # TODO: Implement Function\n",
    "    \n",
    "    input_shape = x_tensor.get_shape()\n",
    "    # print (input_shape)\n",
    "    num_activations = input_shape[1:4].num_elements()\n",
    "    \n",
    "    flat = tf.reshape(x_tensor, [-1, num_activations])\n",
    "    # print (flat.get_shape())\n",
    "    \n",
    "    return flat\n",
    "\n",
    "\n",
    "\"\"\"\n",
    "DON'T MODIFY ANYTHING IN THIS CELL THAT IS BELOW THIS LINE\n",
    "\"\"\"\n",
    "tests.test_flatten(flatten)"
   ]
  },
  {
   "cell_type": "markdown",
   "metadata": {},
   "source": [
    "### Fully-Connected Layer\n",
    "Implement the `fully_conn` function to apply a fully connected layer to `x_tensor` with the shape (*Batch Size*, *num_outputs*). Shortcut option: you can use classes from the [TensorFlow Layers](https://www.tensorflow.org/api_docs/python/tf/layers) or [TensorFlow Layers (contrib)](https://www.tensorflow.org/api_guides/python/contrib.layers) packages for this layer. For more of a challenge, only use other TensorFlow packages."
   ]
  },
  {
   "cell_type": "code",
   "execution_count": 10,
   "metadata": {},
   "outputs": [
    {
     "name": "stdout",
     "output_type": "stream",
     "text": [
      "Tests Passed\n"
     ]
    }
   ],
   "source": [
    "def fully_conn(x_tensor, num_outputs):\n",
    "    \"\"\"\n",
    "    Apply a fully connected layer to x_tensor using weight and bias\n",
    "    : x_tensor: A 2-D tensor where the first dimension is batch size.\n",
    "    : num_outputs: The number of output that the new tensor should be.\n",
    "    : return: A 2-D tensor where the second dimension is num_outputs.\n",
    "    \"\"\"\n",
    "    # TODO: Implement Function\n",
    "    input_dim = x_tensor.get_shape()[1].value\n",
    "    \n",
    "    wShape = [input_dim, num_outputs]\n",
    "    \n",
    "    \n",
    "    #weight = tf.get_variable('full_weight', wShape, initializer = tf.contrib.layers.xavier_initializer())\n",
    "    #bias = tf.get_variable('full_bias', [num_outputs], initializer = tf.contrib.layers.xavier_initializer())\n",
    "    \n",
    "    # will truncated normal initialize variable each time?\n",
    "    \n",
    "    weight = tf.Variable(tf.truncated_normal(shape = wShape))\n",
    "    bias = tf.Variable(tf.constant(0.0, shape = [num_outputs]))\n",
    "    \n",
    "    fc = tf.matmul(x_tensor, weight) + bias\n",
    "    \n",
    "    fc = tf.nn.sigmoid(fc)\n",
    "    \n",
    "    return fc\n",
    "\n",
    "\n",
    "\"\"\"\n",
    "DON'T MODIFY ANYTHING IN THIS CELL THAT IS BELOW THIS LINE\n",
    "\"\"\"\n",
    "tests.test_fully_conn(fully_conn)"
   ]
  },
  {
   "cell_type": "markdown",
   "metadata": {},
   "source": [
    "### Output Layer\n",
    "Implement the `output` function to apply a fully connected layer to `x_tensor` with the shape (*Batch Size*, *num_outputs*). Shortcut option: you can use classes from the [TensorFlow Layers](https://www.tensorflow.org/api_docs/python/tf/layers) or [TensorFlow Layers (contrib)](https://www.tensorflow.org/api_guides/python/contrib.layers) packages for this layer. For more of a challenge, only use other TensorFlow packages.\n",
    "\n",
    "**Note:** Activation, softmax, or cross entropy should **not** be applied to this."
   ]
  },
  {
   "cell_type": "code",
   "execution_count": 11,
   "metadata": {},
   "outputs": [
    {
     "name": "stdout",
     "output_type": "stream",
     "text": [
      "Tests Passed\n"
     ]
    }
   ],
   "source": [
    "def output(x_tensor, num_outputs):\n",
    "    \"\"\"\n",
    "    Apply a output layer to x_tensor using weight and bias\n",
    "    : x_tensor: A 2-D tensor where the first dimension is batch size.\n",
    "    : num_outputs: The number of output that the new tensor should be.\n",
    "    : return: A 2-D tensor where the second dimension is num_outputs.\n",
    "    \"\"\"\n",
    "    # TODO: Implement Function\n",
    "    fc = fully_conn(x_tensor, num_outputs)\n",
    "    \n",
    "    return fc\n",
    "\n",
    "\n",
    "\"\"\"\n",
    "DON'T MODIFY ANYTHING IN THIS CELL THAT IS BELOW THIS LINE\n",
    "\"\"\"\n",
    "tests.test_output(output)"
   ]
  },
  {
   "cell_type": "markdown",
   "metadata": {},
   "source": [
    "### Create Convolutional Model\n",
    "Implement the function `conv_net` to create a convolutional neural network model. The function takes in a batch of images, `x`, and outputs logits.  Use the layers you created above to create this model:\n",
    "\n",
    "* Apply 1, 2, or 3 Convolution and Max Pool layers\n",
    "* Apply a Flatten Layer\n",
    "* Apply 1, 2, or 3 Fully Connected Layers\n",
    "* Apply an Output Layer\n",
    "* Return the output\n",
    "* Apply [TensorFlow's Dropout](https://www.tensorflow.org/api_docs/python/tf/nn/dropout) to one or more layers in the model using `keep_prob`. "
   ]
  },
  {
   "cell_type": "code",
   "execution_count": 12,
   "metadata": {},
   "outputs": [
    {
     "name": "stdout",
     "output_type": "stream",
     "text": [
      "Neural Network Built!\n"
     ]
    }
   ],
   "source": [
    "def conv_net(x, keep_prob):\n",
    "    \"\"\"\n",
    "    Create a convolutional neural network model\n",
    "    : x: Placeholder tensor that holds image data.\n",
    "    : keep_prob: Placeholder tensor that hold dropout keep probability.\n",
    "    : return: Tensor that represents logits\n",
    "    \"\"\"\n",
    "    # TODO: Apply 1, 2, or 3 Convolution and Max Pool layers\n",
    "    #    Play around with different number of outputs, kernel size and stride\n",
    "    # Function Definition from Above:\n",
    "    #    conv2d_maxpool(x_tensor, conv_num_outputs, conv_ksize, conv_strides, pool_ksize, pool_strides)\n",
    "\n",
    "    conv_ksize1 = [5, 5]\n",
    "    conv_stride1 = [1, 1]\n",
    "    conv_ksize2 = [5, 5]\n",
    "    conv_stride2 = [1, 1]\n",
    "    \n",
    "    conv_ksize3 = [5, 5]\n",
    "    conv_stride3 = [1, 1]\n",
    "    \n",
    "    conv_num_output1 = 32\n",
    "    conv_num_output2 = 64\n",
    "    conv_num_output3 = 128\n",
    "    \n",
    "    pool_ksize1 = [2, 2]\n",
    "    pool_stride1 = [2, 2]\n",
    "    \n",
    "    pool_ksize2 = [2, 2]\n",
    "    pool_stride2 = [2, 2]\n",
    "    \n",
    "    pool_ksize3= [2, 2]\n",
    "    pool_stride3 = [2, 2]\n",
    "    \n",
    "    #conv1\n",
    "    x1 = conv2d_maxpool(x, conv_num_output1, conv_ksize1, conv_stride1, pool_ksize1, pool_stride1)\n",
    "    x1 = tf.nn.dropout(x1, keep_prob)\n",
    "    #conv2\n",
    "    x2 = conv2d_maxpool(x1, conv_num_output2, conv_ksize2, conv_stride2, pool_ksize2, pool_stride2)\n",
    "    x2 = tf.nn.dropout(x2, keep_prob)\n",
    "    #conv3\n",
    "    x3 = conv2d_maxpool(x2, conv_num_output3, conv_ksize3, conv_stride3, pool_ksize3, pool_stride3)\n",
    "    x3 = tf.nn.dropout(x3, keep_prob)\n",
    "    # TODO: Apply a Flatten Layer\n",
    "    # Function Definition from Above:\n",
    "    flat = flatten(x3)\n",
    "\n",
    "    # TODO: Apply 1, 2, or 3 Fully Connected Layers\n",
    "    #    Play around with different number of outputs\n",
    "    # Function Definition from Above:\n",
    "    #   fully_conn(x_tensor, num_outputs)\n",
    "    fc1_size = fc2_size = 128\n",
    "    \n",
    "    fc1 = fully_conn(flat, fc1_size)\n",
    "    fc2 = fully_conn(fc1, fc2_size)\n",
    "    num_outputs = 10\n",
    "      \n",
    "    # TODO: Apply an Output Layer\n",
    "    #    Set this to the number of classes\n",
    "    # Function Definition from Above:\n",
    "    top = output(fc2, num_outputs)\n",
    "    \n",
    "    # TODO: return output\n",
    "    return top\n",
    "\n",
    "\n",
    "\"\"\"\n",
    "DON'T MODIFY ANYTHING IN THIS CELL THAT IS BELOW THIS LINE\n",
    "\"\"\"\n",
    "\n",
    "##############################\n",
    "## Build the Neural Network ##\n",
    "##############################\n",
    "\n",
    "# Remove previous weights, bias, inputs, etc..\n",
    "tf.reset_default_graph()\n",
    "\n",
    "# Inputs\n",
    "x = neural_net_image_input((32, 32, 3))\n",
    "y = neural_net_label_input(10)\n",
    "keep_prob = neural_net_keep_prob_input()\n",
    "\n",
    "# Model\n",
    "logits = conv_net(x, keep_prob)\n",
    "\n",
    "# Name logits Tensor, so that is can be loaded from disk after training\n",
    "logits = tf.identity(logits, name='logits')\n",
    "\n",
    "# Loss and Optimizer\n",
    "cost = tf.reduce_mean(tf.nn.softmax_cross_entropy_with_logits(logits=logits, labels=y))\n",
    "optimizer = tf.train.AdamOptimizer().minimize(cost)\n",
    "\n",
    "# Accuracy\n",
    "correct_pred = tf.equal(tf.argmax(logits, 1), tf.argmax(y, 1))\n",
    "accuracy = tf.reduce_mean(tf.cast(correct_pred, tf.float32), name='accuracy')\n",
    "\n",
    "tests.test_conv_net(conv_net)"
   ]
  },
  {
   "cell_type": "markdown",
   "metadata": {},
   "source": [
    "## Train the Neural Network\n",
    "### Single Optimization\n",
    "Implement the function `train_neural_network` to do a single optimization.  The optimization should use `optimizer` to optimize in `session` with a `feed_dict` of the following:\n",
    "* `x` for image input\n",
    "* `y` for labels\n",
    "* `keep_prob` for keep probability for dropout\n",
    "\n",
    "This function will be called for each batch, so `tf.global_variables_initializer()` has already been called.\n",
    "\n",
    "Note: Nothing needs to be returned. This function is only optimizing the neural network."
   ]
  },
  {
   "cell_type": "code",
   "execution_count": 13,
   "metadata": {},
   "outputs": [
    {
     "name": "stdout",
     "output_type": "stream",
     "text": [
      "Tests Passed\n"
     ]
    }
   ],
   "source": [
    "def train_neural_network(session, optimizer, keep_probability, feature_batch, label_batch):\n",
    "    \"\"\"\n",
    "    Optimize the session on a batch of images and labels\n",
    "    : session: Current TensorFlow session\n",
    "    : optimizer: TensorFlow optimizer function\n",
    "    : keep_probability: keep probability\n",
    "    : feature_batch: Batch of Numpy image data\n",
    "    : label_batch: Batch of Numpy label data\n",
    "    \"\"\"\n",
    "    # TODO: Implement Function\n",
    "    # pass\n",
    "    session.run([optimizer], feed_dict = {x: feature_batch, y: label_batch, keep_prob: keep_probability})\n",
    "\n",
    "    return\n",
    "\n",
    "\"\"\"\n",
    "DON'T MODIFY ANYTHING IN THIS CELL THAT IS BELOW THIS LINE\n",
    "\"\"\"\n",
    "tests.test_train_nn(train_neural_network)"
   ]
  },
  {
   "cell_type": "markdown",
   "metadata": {},
   "source": [
    "### Show Stats\n",
    "Implement the function `print_stats` to print loss and validation accuracy.  Use the global variables `valid_features` and `valid_labels` to calculate validation accuracy.  Use a keep probability of `1.0` to calculate the loss and validation accuracy."
   ]
  },
  {
   "cell_type": "code",
   "execution_count": 14,
   "metadata": {
    "collapsed": true
   },
   "outputs": [],
   "source": [
    "def print_stats(session, feature_batch, label_batch, cost, accuracy):\n",
    "    \"\"\"\n",
    "    Print information about loss and validation accuracy\n",
    "    : session: Current TensorFlow session\n",
    "    : feature_batch: Batch of Numpy image data\n",
    "    : label_batch: Batch of Numpy label data\n",
    "    : cost: TensorFlow cost function\n",
    "    : accuracy: TensorFlow accuracy function\n",
    "    \"\"\"\n",
    "    # TODO: Implement Function\n",
    "    tCost, tAccuracy = session.run([cost, accuracy], feed_dict = {x : feature_batch, y : label_batch, keep_prob : 1})\n",
    "    print(\"loss and accuracy: %.4f, %.4f\" % (tCost, tAccuracy))\n",
    "    \n",
    "    return"
   ]
  },
  {
   "cell_type": "markdown",
   "metadata": {},
   "source": [
    "### Hyperparameters\n",
    "Tune the following parameters:\n",
    "* Set `epochs` to the number of iterations until the network stops learning or start overfitting\n",
    "* Set `batch_size` to the highest number that your machine has memory for.  Most people set them to common sizes of memory:\n",
    " * 64\n",
    " * 128\n",
    " * 256\n",
    " * ...\n",
    "* Set `keep_probability` to the probability of keeping a node using dropout"
   ]
  },
  {
   "cell_type": "code",
   "execution_count": 15,
   "metadata": {
    "collapsed": true
   },
   "outputs": [],
   "source": [
    "# TODO: Tune Parameters\n",
    "epochs = 3000\n",
    "batch_size = 256\n",
    "keep_probability = 0.8"
   ]
  },
  {
   "cell_type": "markdown",
   "metadata": {},
   "source": [
    "### Train on a Single CIFAR-10 Batch\n",
    "Instead of training the neural network on all the CIFAR-10 batches of data, let's use a single batch. This should save time while you iterate on the model to get a better accuracy.  Once the final validation accuracy is 50% or greater, run the model on all the data in the next section."
   ]
  },
  {
   "cell_type": "code",
   "execution_count": 17,
   "metadata": {
    "scrolled": true
   },
   "outputs": [
    {
     "name": "stdout",
     "output_type": "stream",
     "text": [
      "Checking the Training on a Single Batch...\n",
      "Epoch  1, CIFAR-10 Batch 1:  loss and accuracy: 2.3748, 0.0910\n",
      "Epoch 50, CIFAR-10 Batch 1:  loss and accuracy: 2.1071, 0.1954\n",
      "Epoch 100, CIFAR-10 Batch 1:  loss and accuracy: 2.0675, 0.2724\n",
      "Epoch 150, CIFAR-10 Batch 1:  loss and accuracy: 2.0398, 0.3044\n",
      "Epoch 200, CIFAR-10 Batch 1:  loss and accuracy: 2.0286, 0.2934\n",
      "Epoch 250, CIFAR-10 Batch 1:  loss and accuracy: 1.9976, 0.3284\n",
      "Epoch 300, CIFAR-10 Batch 1:  loss and accuracy: 1.9888, 0.3434\n",
      "Epoch 350, CIFAR-10 Batch 1:  loss and accuracy: 1.9711, 0.3482\n",
      "Epoch 400, CIFAR-10 Batch 1:  loss and accuracy: 1.9721, 0.3290\n",
      "Epoch 450, CIFAR-10 Batch 1:  loss and accuracy: 1.9321, 0.3818\n",
      "Epoch 500, CIFAR-10 Batch 1:  loss and accuracy: 1.9421, 0.3802\n",
      "Epoch 550, CIFAR-10 Batch 1:  loss and accuracy: 1.9496, 0.3650\n",
      "Epoch 600, CIFAR-10 Batch 1:  loss and accuracy: 1.9177, 0.3882\n",
      "Epoch 650, CIFAR-10 Batch 1:  loss and accuracy: 1.8979, 0.4034\n",
      "Epoch 700, CIFAR-10 Batch 1:  loss and accuracy: 1.8919, 0.4162\n",
      "Epoch 750, CIFAR-10 Batch 1:  loss and accuracy: 1.9007, 0.4174\n",
      "Epoch 800, CIFAR-10 Batch 1:  loss and accuracy: 1.8891, 0.4310\n",
      "Epoch 850, CIFAR-10 Batch 1:  loss and accuracy: 1.9059, 0.4138\n",
      "Epoch 900, CIFAR-10 Batch 1:  loss and accuracy: 1.8774, 0.4462\n",
      "Epoch 950, CIFAR-10 Batch 1:  loss and accuracy: 1.8825, 0.4498\n",
      "Epoch 1000, CIFAR-10 Batch 1:  loss and accuracy: 1.8742, 0.4566\n",
      "Epoch 1050, CIFAR-10 Batch 1:  loss and accuracy: 1.8786, 0.4520\n",
      "Epoch 1100, CIFAR-10 Batch 1:  loss and accuracy: 1.8763, 0.4526\n",
      "Epoch 1150, CIFAR-10 Batch 1:  loss and accuracy: 1.8665, 0.4608\n",
      "Epoch 1200, CIFAR-10 Batch 1:  loss and accuracy: 1.8667, 0.4684\n",
      "Epoch 1250, CIFAR-10 Batch 1:  loss and accuracy: 1.8663, 0.4736\n",
      "Epoch 1300, CIFAR-10 Batch 1:  loss and accuracy: 1.8551, 0.4792\n",
      "Epoch 1350, CIFAR-10 Batch 1:  loss and accuracy: 1.8668, 0.4686\n",
      "Epoch 1400, CIFAR-10 Batch 1:  loss and accuracy: 1.8506, 0.4818\n",
      "Epoch 1450, CIFAR-10 Batch 1:  loss and accuracy: 1.8408, 0.4950\n",
      "Epoch 1500, CIFAR-10 Batch 1:  loss and accuracy: 1.8484, 0.4880\n",
      "Epoch 1550, CIFAR-10 Batch 1:  loss and accuracy: 1.8452, 0.4902\n",
      "Epoch 1600, CIFAR-10 Batch 1:  loss and accuracy: 1.8426, 0.4908\n",
      "Epoch 1650, CIFAR-10 Batch 1:  loss and accuracy: 1.8449, 0.4892\n",
      "Epoch 1700, CIFAR-10 Batch 1:  loss and accuracy: 1.8351, 0.5040\n",
      "Epoch 1750, CIFAR-10 Batch 1:  loss and accuracy: 1.8326, 0.5052\n",
      "Epoch 1800, CIFAR-10 Batch 1:  loss and accuracy: 1.8353, 0.4964\n",
      "Epoch 1850, CIFAR-10 Batch 1:  loss and accuracy: 1.8435, 0.5012\n",
      "Epoch 1900, CIFAR-10 Batch 1:  loss and accuracy: 1.8358, 0.5112\n",
      "Epoch 1950, CIFAR-10 Batch 1:  loss and accuracy: 1.8298, 0.5156\n",
      "Epoch 2000, CIFAR-10 Batch 1:  loss and accuracy: 1.8362, 0.5036\n",
      "Epoch 2050, CIFAR-10 Batch 1:  loss and accuracy: 1.8291, 0.5180\n",
      "Epoch 2100, CIFAR-10 Batch 1:  loss and accuracy: 1.8329, 0.5176\n",
      "Epoch 2150, CIFAR-10 Batch 1:  loss and accuracy: 1.8282, 0.5108\n",
      "Epoch 2200, CIFAR-10 Batch 1:  loss and accuracy: 1.8251, 0.5186\n",
      "Epoch 2250, CIFAR-10 Batch 1:  loss and accuracy: 1.8264, 0.5216\n",
      "Epoch 2300, CIFAR-10 Batch 1:  loss and accuracy: 1.8255, 0.5222\n",
      "Epoch 2350, CIFAR-10 Batch 1:  loss and accuracy: 1.8235, 0.5214\n",
      "Epoch 2400, CIFAR-10 Batch 1:  loss and accuracy: 1.8193, 0.5224\n",
      "Epoch 2450, CIFAR-10 Batch 1:  loss and accuracy: 1.8203, 0.5302\n",
      "Epoch 2500, CIFAR-10 Batch 1:  loss and accuracy: 1.8275, 0.5266\n",
      "Epoch 2550, CIFAR-10 Batch 1:  loss and accuracy: 1.8212, 0.5304\n",
      "Epoch 2600, CIFAR-10 Batch 1:  loss and accuracy: 1.8227, 0.5260\n",
      "Epoch 2650, CIFAR-10 Batch 1:  loss and accuracy: 1.8248, 0.5314\n",
      "Epoch 2700, CIFAR-10 Batch 1:  loss and accuracy: 1.8198, 0.5332\n",
      "Epoch 2750, CIFAR-10 Batch 1:  loss and accuracy: 1.8152, 0.5440\n",
      "Epoch 2800, CIFAR-10 Batch 1:  loss and accuracy: 1.8230, 0.5376\n",
      "Epoch 2850, CIFAR-10 Batch 1:  loss and accuracy: 1.8205, 0.5362\n",
      "Epoch 2900, CIFAR-10 Batch 1:  loss and accuracy: 1.8186, 0.5382\n",
      "Epoch 2950, CIFAR-10 Batch 1:  loss and accuracy: 1.8214, 0.5438\n",
      "Epoch 3000, CIFAR-10 Batch 1:  loss and accuracy: 1.8222, 0.5438\n"
     ]
    }
   ],
   "source": [
    "\"\"\"\n",
    "DON'T MODIFY ANYTHING IN THIS CELL\n",
    "\"\"\"\n",
    "print('Checking the Training on a Single Batch...')\n",
    "with tf.Session() as sess:\n",
    "    # Initializing the variables\n",
    "    sess.run(tf.global_variables_initializer())\n",
    "    \n",
    "    # Training cycle\n",
    "    for epoch in range(epochs):\n",
    "        batch_i = 1\n",
    "        for batch_features, batch_labels in helper.load_preprocess_training_batch(batch_i, batch_size):\n",
    "            train_neural_network(sess, optimizer, keep_probability, batch_features, batch_labels)\n",
    "        \n",
    "        if(epoch + 1 == 1 or (epoch + 1) % 50 == 0):\n",
    "            print('Epoch {:>2}, CIFAR-10 Batch {}:  '.format(epoch + 1, batch_i), end='')\n",
    "            print_stats(sess, valid_features, valid_labels, cost, accuracy)"
   ]
  },
  {
   "cell_type": "markdown",
   "metadata": {},
   "source": [
    "### Fully Train the Model\n",
    "Now that you got a good accuracy with a single CIFAR-10 batch, try it with all five batches."
   ]
  },
  {
   "cell_type": "code",
   "execution_count": 17,
   "metadata": {
    "scrolled": true
   },
   "outputs": [
    {
     "name": "stdout",
     "output_type": "stream",
     "text": [
      "Training...\n",
      "Epoch  1, CIFAR-10 Batch 1:  loss and accuracy: 2.3862, 0.1014\n",
      "Epoch  1, CIFAR-10 Batch 2:  loss and accuracy: 2.3642, 0.1016\n",
      "Epoch  1, CIFAR-10 Batch 3:  loss and accuracy: 2.3409, 0.1020\n",
      "Epoch  1, CIFAR-10 Batch 4:  loss and accuracy: 2.3368, 0.1022\n",
      "Epoch  1, CIFAR-10 Batch 5:  loss and accuracy: 2.3371, 0.1020\n",
      "Epoch 50, CIFAR-10 Batch 1:  loss and accuracy: 1.9889, 0.3398\n",
      "Epoch 50, CIFAR-10 Batch 2:  loss and accuracy: 1.9871, 0.3388\n",
      "Epoch 50, CIFAR-10 Batch 3:  loss and accuracy: 1.9851, 0.3374\n",
      "Epoch 50, CIFAR-10 Batch 4:  loss and accuracy: 1.9963, 0.3346\n",
      "Epoch 50, CIFAR-10 Batch 5:  loss and accuracy: 1.9818, 0.3364\n",
      "Epoch 100, CIFAR-10 Batch 1:  loss and accuracy: 1.9232, 0.3882\n",
      "Epoch 100, CIFAR-10 Batch 2:  loss and accuracy: 1.9177, 0.3992\n",
      "Epoch 100, CIFAR-10 Batch 3:  loss and accuracy: 1.9373, 0.3802\n",
      "Epoch 100, CIFAR-10 Batch 4:  loss and accuracy: 1.9227, 0.3844\n",
      "Epoch 100, CIFAR-10 Batch 5:  loss and accuracy: 1.9213, 0.3934\n",
      "Epoch 150, CIFAR-10 Batch 1:  loss and accuracy: 1.8903, 0.4214\n",
      "Epoch 150, CIFAR-10 Batch 2:  loss and accuracy: 1.8918, 0.4238\n",
      "Epoch 150, CIFAR-10 Batch 3:  loss and accuracy: 1.8809, 0.4236\n",
      "Epoch 150, CIFAR-10 Batch 4:  loss and accuracy: 1.8854, 0.4188\n",
      "Epoch 150, CIFAR-10 Batch 5:  loss and accuracy: 1.8821, 0.4188\n",
      "Epoch 200, CIFAR-10 Batch 1:  loss and accuracy: 1.8558, 0.4574\n",
      "Epoch 200, CIFAR-10 Batch 2:  loss and accuracy: 1.8607, 0.4550\n",
      "Epoch 200, CIFAR-10 Batch 3:  loss and accuracy: 1.8603, 0.4548\n",
      "Epoch 200, CIFAR-10 Batch 4:  loss and accuracy: 1.8667, 0.4484\n",
      "Epoch 200, CIFAR-10 Batch 5:  loss and accuracy: 1.8565, 0.4600\n",
      "Epoch 250, CIFAR-10 Batch 1:  loss and accuracy: 1.8442, 0.4732\n",
      "Epoch 250, CIFAR-10 Batch 2:  loss and accuracy: 1.8457, 0.4738\n",
      "Epoch 250, CIFAR-10 Batch 3:  loss and accuracy: 1.8458, 0.4798\n",
      "Epoch 250, CIFAR-10 Batch 4:  loss and accuracy: 1.8414, 0.4924\n",
      "Epoch 250, CIFAR-10 Batch 5:  loss and accuracy: 1.8416, 0.4820\n",
      "Epoch 300, CIFAR-10 Batch 1:  loss and accuracy: 1.8193, 0.4928\n",
      "Epoch 300, CIFAR-10 Batch 2:  loss and accuracy: 1.8583, 0.4696\n",
      "Epoch 300, CIFAR-10 Batch 3:  loss and accuracy: 1.8358, 0.4882\n",
      "Epoch 300, CIFAR-10 Batch 4:  loss and accuracy: 1.8303, 0.4948\n",
      "Epoch 300, CIFAR-10 Batch 5:  loss and accuracy: 1.8280, 0.4916\n",
      "Epoch 350, CIFAR-10 Batch 1:  loss and accuracy: 1.8160, 0.5116\n",
      "Epoch 350, CIFAR-10 Batch 2:  loss and accuracy: 1.8254, 0.4964\n",
      "Epoch 350, CIFAR-10 Batch 3:  loss and accuracy: 1.8089, 0.5092\n",
      "Epoch 350, CIFAR-10 Batch 4:  loss and accuracy: 1.8182, 0.5056\n",
      "Epoch 350, CIFAR-10 Batch 5:  loss and accuracy: 1.8256, 0.4928\n",
      "Epoch 400, CIFAR-10 Batch 1:  loss and accuracy: 1.8068, 0.5228\n",
      "Epoch 400, CIFAR-10 Batch 2:  loss and accuracy: 1.8094, 0.5180\n",
      "Epoch 400, CIFAR-10 Batch 3:  loss and accuracy: 1.8147, 0.5114\n",
      "Epoch 400, CIFAR-10 Batch 4:  loss and accuracy: 1.8122, 0.5174\n",
      "Epoch 400, CIFAR-10 Batch 5:  loss and accuracy: 1.8049, 0.5234\n",
      "Epoch 450, CIFAR-10 Batch 1:  loss and accuracy: 1.8157, 0.5156\n",
      "Epoch 450, CIFAR-10 Batch 2:  loss and accuracy: 1.8104, 0.5176\n",
      "Epoch 450, CIFAR-10 Batch 3:  loss and accuracy: 1.8164, 0.5128\n",
      "Epoch 450, CIFAR-10 Batch 4:  loss and accuracy: 1.7934, 0.5426\n",
      "Epoch 450, CIFAR-10 Batch 5:  loss and accuracy: 1.7991, 0.5338\n",
      "Epoch 500, CIFAR-10 Batch 1:  loss and accuracy: 1.7963, 0.5368\n",
      "Epoch 500, CIFAR-10 Batch 2:  loss and accuracy: 1.7860, 0.5484\n",
      "Epoch 500, CIFAR-10 Batch 3:  loss and accuracy: 1.7901, 0.5468\n",
      "Epoch 500, CIFAR-10 Batch 4:  loss and accuracy: 1.7920, 0.5364\n",
      "Epoch 500, CIFAR-10 Batch 5:  loss and accuracy: 1.7921, 0.5364\n",
      "Epoch 550, CIFAR-10 Batch 1:  loss and accuracy: 1.7717, 0.5600\n",
      "Epoch 550, CIFAR-10 Batch 2:  loss and accuracy: 1.7791, 0.5568\n",
      "Epoch 550, CIFAR-10 Batch 3:  loss and accuracy: 1.7744, 0.5640\n",
      "Epoch 550, CIFAR-10 Batch 4:  loss and accuracy: 1.7829, 0.5520\n",
      "Epoch 550, CIFAR-10 Batch 5:  loss and accuracy: 1.8022, 0.5348\n",
      "Epoch 600, CIFAR-10 Batch 1:  loss and accuracy: 1.7890, 0.5420\n",
      "Epoch 600, CIFAR-10 Batch 2:  loss and accuracy: 1.7872, 0.5492\n",
      "Epoch 600, CIFAR-10 Batch 3:  loss and accuracy: 1.7763, 0.5552\n",
      "Epoch 600, CIFAR-10 Batch 4:  loss and accuracy: 1.7776, 0.5578\n",
      "Epoch 600, CIFAR-10 Batch 5:  loss and accuracy: 1.7769, 0.5530\n",
      "Epoch 650, CIFAR-10 Batch 1:  loss and accuracy: 1.7685, 0.5734\n",
      "Epoch 650, CIFAR-10 Batch 2:  loss and accuracy: 1.7865, 0.5586\n",
      "Epoch 650, CIFAR-10 Batch 3:  loss and accuracy: 1.7739, 0.5612\n",
      "Epoch 650, CIFAR-10 Batch 4:  loss and accuracy: 1.7632, 0.5770\n",
      "Epoch 650, CIFAR-10 Batch 5:  loss and accuracy: 1.7737, 0.5628\n",
      "Epoch 700, CIFAR-10 Batch 1:  loss and accuracy: 1.7636, 0.5898\n",
      "Epoch 700, CIFAR-10 Batch 2:  loss and accuracy: 1.7690, 0.5740\n",
      "Epoch 700, CIFAR-10 Batch 3:  loss and accuracy: 1.7675, 0.5852\n",
      "Epoch 700, CIFAR-10 Batch 4:  loss and accuracy: 1.7701, 0.5842\n",
      "Epoch 700, CIFAR-10 Batch 5:  loss and accuracy: 1.7675, 0.5830\n",
      "Epoch 750, CIFAR-10 Batch 1:  loss and accuracy: 1.7557, 0.6116\n",
      "Epoch 750, CIFAR-10 Batch 2:  loss and accuracy: 1.7569, 0.6044\n",
      "Epoch 750, CIFAR-10 Batch 3:  loss and accuracy: 1.7497, 0.6072\n",
      "Epoch 750, CIFAR-10 Batch 4:  loss and accuracy: 1.7684, 0.5942\n",
      "Epoch 750, CIFAR-10 Batch 5:  loss and accuracy: 1.7587, 0.6072\n",
      "Epoch 800, CIFAR-10 Batch 1:  loss and accuracy: 1.7574, 0.6020\n",
      "Epoch 800, CIFAR-10 Batch 2:  loss and accuracy: 1.7521, 0.6026\n",
      "Epoch 800, CIFAR-10 Batch 3:  loss and accuracy: 1.7452, 0.6076\n",
      "Epoch 800, CIFAR-10 Batch 4:  loss and accuracy: 1.7402, 0.6192\n",
      "Epoch 800, CIFAR-10 Batch 5:  loss and accuracy: 1.7515, 0.6106\n",
      "Epoch 850, CIFAR-10 Batch 1:  loss and accuracy: 1.7444, 0.6236\n",
      "Epoch 850, CIFAR-10 Batch 2:  loss and accuracy: 1.7485, 0.6122\n",
      "Epoch 850, CIFAR-10 Batch 3:  loss and accuracy: 1.7495, 0.6114\n",
      "Epoch 850, CIFAR-10 Batch 4:  loss and accuracy: 1.7421, 0.6188\n",
      "Epoch 850, CIFAR-10 Batch 5:  loss and accuracy: 1.7487, 0.6128\n",
      "Epoch 900, CIFAR-10 Batch 1:  loss and accuracy: 1.7396, 0.6276\n",
      "Epoch 900, CIFAR-10 Batch 2:  loss and accuracy: 1.7262, 0.6364\n",
      "Epoch 900, CIFAR-10 Batch 3:  loss and accuracy: 1.7471, 0.6158\n",
      "Epoch 900, CIFAR-10 Batch 4:  loss and accuracy: 1.7455, 0.6224\n",
      "Epoch 900, CIFAR-10 Batch 5:  loss and accuracy: 1.7369, 0.6332\n",
      "Epoch 950, CIFAR-10 Batch 1:  loss and accuracy: 1.7358, 0.6396\n",
      "Epoch 950, CIFAR-10 Batch 2:  loss and accuracy: 1.7367, 0.6300\n",
      "Epoch 950, CIFAR-10 Batch 3:  loss and accuracy: 1.7352, 0.6380\n",
      "Epoch 950, CIFAR-10 Batch 4:  loss and accuracy: 1.7273, 0.6446\n",
      "Epoch 950, CIFAR-10 Batch 5:  loss and accuracy: 1.7330, 0.6456\n",
      "Epoch 1000, CIFAR-10 Batch 1:  loss and accuracy: 1.7308, 0.6450\n",
      "Epoch 1000, CIFAR-10 Batch 2:  loss and accuracy: 1.7245, 0.6490\n",
      "Epoch 1000, CIFAR-10 Batch 3:  loss and accuracy: 1.7298, 0.6432\n",
      "Epoch 1000, CIFAR-10 Batch 4:  loss and accuracy: 1.7291, 0.6426\n",
      "Epoch 1000, CIFAR-10 Batch 5:  loss and accuracy: 1.7304, 0.6360\n",
      "Epoch 1050, CIFAR-10 Batch 1:  loss and accuracy: 1.7237, 0.6566\n",
      "Epoch 1050, CIFAR-10 Batch 2:  loss and accuracy: 1.7263, 0.6490\n",
      "Epoch 1050, CIFAR-10 Batch 3:  loss and accuracy: 1.7127, 0.6624\n",
      "Epoch 1050, CIFAR-10 Batch 4:  loss and accuracy: 1.7214, 0.6548\n",
      "Epoch 1050, CIFAR-10 Batch 5:  loss and accuracy: 1.7379, 0.6438\n",
      "Epoch 1100, CIFAR-10 Batch 1:  loss and accuracy: 1.7247, 0.6530\n",
      "Epoch 1100, CIFAR-10 Batch 2:  loss and accuracy: 1.7159, 0.6698\n",
      "Epoch 1100, CIFAR-10 Batch 3:  loss and accuracy: 1.7218, 0.6576\n",
      "Epoch 1100, CIFAR-10 Batch 4:  loss and accuracy: 1.7208, 0.6626\n",
      "Epoch 1100, CIFAR-10 Batch 5:  loss and accuracy: 1.7163, 0.6664\n",
      "Epoch 1150, CIFAR-10 Batch 1:  loss and accuracy: 1.7050, 0.6736\n",
      "Epoch 1150, CIFAR-10 Batch 2:  loss and accuracy: 1.7171, 0.6578\n",
      "Epoch 1150, CIFAR-10 Batch 3:  loss and accuracy: 1.7076, 0.6688\n",
      "Epoch 1150, CIFAR-10 Batch 4:  loss and accuracy: 1.7088, 0.6668\n",
      "Epoch 1150, CIFAR-10 Batch 5:  loss and accuracy: 1.7179, 0.6508\n",
      "Epoch 1200, CIFAR-10 Batch 1:  loss and accuracy: 1.7119, 0.6676\n",
      "Epoch 1200, CIFAR-10 Batch 2:  loss and accuracy: 1.7048, 0.6704\n",
      "Epoch 1200, CIFAR-10 Batch 3:  loss and accuracy: 1.7148, 0.6558\n",
      "Epoch 1200, CIFAR-10 Batch 4:  loss and accuracy: 1.6974, 0.6828\n",
      "Epoch 1200, CIFAR-10 Batch 5:  loss and accuracy: 1.7153, 0.6554\n",
      "Epoch 1250, CIFAR-10 Batch 1:  loss and accuracy: 1.7082, 0.6712\n",
      "Epoch 1250, CIFAR-10 Batch 2:  loss and accuracy: 1.7032, 0.6780\n",
      "Epoch 1250, CIFAR-10 Batch 3:  loss and accuracy: 1.7029, 0.6780\n"
     ]
    },
    {
     "name": "stdout",
     "output_type": "stream",
     "text": [
      "Epoch 1250, CIFAR-10 Batch 4:  loss and accuracy: 1.7042, 0.6780\n",
      "Epoch 1250, CIFAR-10 Batch 5:  loss and accuracy: 1.7010, 0.6788\n",
      "Epoch 1300, CIFAR-10 Batch 1:  loss and accuracy: 1.7008, 0.6850\n",
      "Epoch 1300, CIFAR-10 Batch 2:  loss and accuracy: 1.7028, 0.6788\n",
      "Epoch 1300, CIFAR-10 Batch 3:  loss and accuracy: 1.7016, 0.6754\n",
      "Epoch 1300, CIFAR-10 Batch 4:  loss and accuracy: 1.7004, 0.6812\n",
      "Epoch 1300, CIFAR-10 Batch 5:  loss and accuracy: 1.7002, 0.6786\n",
      "Epoch 1350, CIFAR-10 Batch 1:  loss and accuracy: 1.6921, 0.6882\n",
      "Epoch 1350, CIFAR-10 Batch 2:  loss and accuracy: 1.6919, 0.6914\n",
      "Epoch 1350, CIFAR-10 Batch 3:  loss and accuracy: 1.6941, 0.6824\n",
      "Epoch 1350, CIFAR-10 Batch 4:  loss and accuracy: 1.6986, 0.6812\n",
      "Epoch 1350, CIFAR-10 Batch 5:  loss and accuracy: 1.6961, 0.6888\n",
      "Epoch 1400, CIFAR-10 Batch 1:  loss and accuracy: 1.6992, 0.6824\n",
      "Epoch 1400, CIFAR-10 Batch 2:  loss and accuracy: 1.6937, 0.6872\n",
      "Epoch 1400, CIFAR-10 Batch 3:  loss and accuracy: 1.6888, 0.6922\n",
      "Epoch 1400, CIFAR-10 Batch 4:  loss and accuracy: 1.6877, 0.6938\n",
      "Epoch 1400, CIFAR-10 Batch 5:  loss and accuracy: 1.6968, 0.6862\n",
      "Epoch 1450, CIFAR-10 Batch 1:  loss and accuracy: 1.6909, 0.6938\n",
      "Epoch 1450, CIFAR-10 Batch 2:  loss and accuracy: 1.6903, 0.6934\n",
      "Epoch 1450, CIFAR-10 Batch 3:  loss and accuracy: 1.6945, 0.6902\n",
      "Epoch 1450, CIFAR-10 Batch 4:  loss and accuracy: 1.6886, 0.6902\n",
      "Epoch 1450, CIFAR-10 Batch 5:  loss and accuracy: 1.6907, 0.6940\n",
      "Epoch 1500, CIFAR-10 Batch 1:  loss and accuracy: 1.6951, 0.6948\n",
      "Epoch 1500, CIFAR-10 Batch 2:  loss and accuracy: 1.6948, 0.6882\n",
      "Epoch 1500, CIFAR-10 Batch 3:  loss and accuracy: 1.6974, 0.6846\n",
      "Epoch 1500, CIFAR-10 Batch 4:  loss and accuracy: 1.6922, 0.6902\n",
      "Epoch 1500, CIFAR-10 Batch 5:  loss and accuracy: 1.6925, 0.6946\n",
      "Epoch 1550, CIFAR-10 Batch 1:  loss and accuracy: 1.6869, 0.7078\n",
      "Epoch 1550, CIFAR-10 Batch 2:  loss and accuracy: 1.6854, 0.6944\n",
      "Epoch 1550, CIFAR-10 Batch 3:  loss and accuracy: 1.6888, 0.7078\n",
      "Epoch 1550, CIFAR-10 Batch 4:  loss and accuracy: 1.6882, 0.7026\n",
      "Epoch 1550, CIFAR-10 Batch 5:  loss and accuracy: 1.6892, 0.7022\n",
      "Epoch 1600, CIFAR-10 Batch 1:  loss and accuracy: 1.6798, 0.7106\n",
      "Epoch 1600, CIFAR-10 Batch 2:  loss and accuracy: 1.6818, 0.7034\n",
      "Epoch 1600, CIFAR-10 Batch 3:  loss and accuracy: 1.6843, 0.7040\n",
      "Epoch 1600, CIFAR-10 Batch 4:  loss and accuracy: 1.6829, 0.7034\n",
      "Epoch 1600, CIFAR-10 Batch 5:  loss and accuracy: 1.6844, 0.7026\n",
      "Epoch 1650, CIFAR-10 Batch 1:  loss and accuracy: 1.6847, 0.7014\n",
      "Epoch 1650, CIFAR-10 Batch 2:  loss and accuracy: 1.6816, 0.7136\n",
      "Epoch 1650, CIFAR-10 Batch 3:  loss and accuracy: 1.6811, 0.7052\n",
      "Epoch 1650, CIFAR-10 Batch 4:  loss and accuracy: 1.6804, 0.7058\n",
      "Epoch 1650, CIFAR-10 Batch 5:  loss and accuracy: 1.6785, 0.7112\n",
      "Epoch 1700, CIFAR-10 Batch 1:  loss and accuracy: 1.6757, 0.7054\n",
      "Epoch 1700, CIFAR-10 Batch 2:  loss and accuracy: 1.6822, 0.7054\n",
      "Epoch 1700, CIFAR-10 Batch 3:  loss and accuracy: 1.6814, 0.7082\n",
      "Epoch 1700, CIFAR-10 Batch 4:  loss and accuracy: 1.6767, 0.7102\n",
      "Epoch 1700, CIFAR-10 Batch 5:  loss and accuracy: 1.6781, 0.7056\n",
      "Epoch 1750, CIFAR-10 Batch 1:  loss and accuracy: 1.6797, 0.7148\n",
      "Epoch 1750, CIFAR-10 Batch 2:  loss and accuracy: 1.6877, 0.7018\n",
      "Epoch 1750, CIFAR-10 Batch 3:  loss and accuracy: 1.6838, 0.7098\n",
      "Epoch 1750, CIFAR-10 Batch 4:  loss and accuracy: 1.6799, 0.7068\n",
      "Epoch 1750, CIFAR-10 Batch 5:  loss and accuracy: 1.6789, 0.7128\n",
      "Epoch 1800, CIFAR-10 Batch 1:  loss and accuracy: 1.6791, 0.7080\n",
      "Epoch 1800, CIFAR-10 Batch 2:  loss and accuracy: 1.6786, 0.7158\n",
      "Epoch 1800, CIFAR-10 Batch 3:  loss and accuracy: 1.6797, 0.7100\n",
      "Epoch 1800, CIFAR-10 Batch 4:  loss and accuracy: 1.6753, 0.7126\n",
      "Epoch 1800, CIFAR-10 Batch 5:  loss and accuracy: 1.6738, 0.7194\n",
      "Epoch 1850, CIFAR-10 Batch 1:  loss and accuracy: 1.6769, 0.7094\n",
      "Epoch 1850, CIFAR-10 Batch 2:  loss and accuracy: 1.6798, 0.7122\n",
      "Epoch 1850, CIFAR-10 Batch 3:  loss and accuracy: 1.6777, 0.7174\n",
      "Epoch 1850, CIFAR-10 Batch 4:  loss and accuracy: 1.6780, 0.7146\n",
      "Epoch 1850, CIFAR-10 Batch 5:  loss and accuracy: 1.6787, 0.7186\n",
      "Epoch 1900, CIFAR-10 Batch 1:  loss and accuracy: 1.6753, 0.7206\n",
      "Epoch 1900, CIFAR-10 Batch 2:  loss and accuracy: 1.6787, 0.7148\n",
      "Epoch 1900, CIFAR-10 Batch 3:  loss and accuracy: 1.6734, 0.7178\n",
      "Epoch 1900, CIFAR-10 Batch 4:  loss and accuracy: 1.6768, 0.7080\n",
      "Epoch 1900, CIFAR-10 Batch 5:  loss and accuracy: 1.6686, 0.7178\n",
      "Epoch 1950, CIFAR-10 Batch 1:  loss and accuracy: 1.6745, 0.7182\n",
      "Epoch 1950, CIFAR-10 Batch 2:  loss and accuracy: 1.6689, 0.7242\n",
      "Epoch 1950, CIFAR-10 Batch 3:  loss and accuracy: 1.6754, 0.7168\n",
      "Epoch 1950, CIFAR-10 Batch 4:  loss and accuracy: 1.6762, 0.7172\n",
      "Epoch 1950, CIFAR-10 Batch 5:  loss and accuracy: 1.6729, 0.7164\n",
      "Epoch 2000, CIFAR-10 Batch 1:  loss and accuracy: 1.6721, 0.7232\n",
      "Epoch 2000, CIFAR-10 Batch 2:  loss and accuracy: 1.6714, 0.7222\n",
      "Epoch 2000, CIFAR-10 Batch 3:  loss and accuracy: 1.6688, 0.7248\n",
      "Epoch 2000, CIFAR-10 Batch 4:  loss and accuracy: 1.6696, 0.7220\n",
      "Epoch 2000, CIFAR-10 Batch 5:  loss and accuracy: 1.6725, 0.7198\n",
      "Epoch 2050, CIFAR-10 Batch 1:  loss and accuracy: 1.6712, 0.7280\n",
      "Epoch 2050, CIFAR-10 Batch 2:  loss and accuracy: 1.6720, 0.7262\n",
      "Epoch 2050, CIFAR-10 Batch 3:  loss and accuracy: 1.6700, 0.7242\n",
      "Epoch 2050, CIFAR-10 Batch 4:  loss and accuracy: 1.6694, 0.7246\n",
      "Epoch 2050, CIFAR-10 Batch 5:  loss and accuracy: 1.6669, 0.7286\n",
      "Epoch 2100, CIFAR-10 Batch 1:  loss and accuracy: 1.6772, 0.7206\n",
      "Epoch 2100, CIFAR-10 Batch 2:  loss and accuracy: 1.6729, 0.7248\n",
      "Epoch 2100, CIFAR-10 Batch 3:  loss and accuracy: 1.6733, 0.7262\n",
      "Epoch 2100, CIFAR-10 Batch 4:  loss and accuracy: 1.6747, 0.7228\n",
      "Epoch 2100, CIFAR-10 Batch 5:  loss and accuracy: 1.6706, 0.7264\n",
      "Epoch 2150, CIFAR-10 Batch 1:  loss and accuracy: 1.6722, 0.7216\n",
      "Epoch 2150, CIFAR-10 Batch 2:  loss and accuracy: 1.6724, 0.7186\n",
      "Epoch 2150, CIFAR-10 Batch 3:  loss and accuracy: 1.6659, 0.7280\n",
      "Epoch 2150, CIFAR-10 Batch 4:  loss and accuracy: 1.6784, 0.7152\n",
      "Epoch 2150, CIFAR-10 Batch 5:  loss and accuracy: 1.6727, 0.7216\n",
      "Epoch 2200, CIFAR-10 Batch 1:  loss and accuracy: 1.6656, 0.7278\n",
      "Epoch 2200, CIFAR-10 Batch 2:  loss and accuracy: 1.6646, 0.7284\n",
      "Epoch 2200, CIFAR-10 Batch 3:  loss and accuracy: 1.6681, 0.7296\n",
      "Epoch 2200, CIFAR-10 Batch 4:  loss and accuracy: 1.6714, 0.7226\n",
      "Epoch 2200, CIFAR-10 Batch 5:  loss and accuracy: 1.6686, 0.7256\n",
      "Epoch 2250, CIFAR-10 Batch 1:  loss and accuracy: 1.6593, 0.7390\n",
      "Epoch 2250, CIFAR-10 Batch 2:  loss and accuracy: 1.6665, 0.7320\n",
      "Epoch 2250, CIFAR-10 Batch 3:  loss and accuracy: 1.6684, 0.7312\n",
      "Epoch 2250, CIFAR-10 Batch 4:  loss and accuracy: 1.6716, 0.7296\n",
      "Epoch 2250, CIFAR-10 Batch 5:  loss and accuracy: 1.6702, 0.7306\n",
      "Epoch 2300, CIFAR-10 Batch 1:  loss and accuracy: 1.6685, 0.7310\n",
      "Epoch 2300, CIFAR-10 Batch 2:  loss and accuracy: 1.6704, 0.7262\n",
      "Epoch 2300, CIFAR-10 Batch 3:  loss and accuracy: 1.6612, 0.7396\n",
      "Epoch 2300, CIFAR-10 Batch 4:  loss and accuracy: 1.6615, 0.7366\n",
      "Epoch 2300, CIFAR-10 Batch 5:  loss and accuracy: 1.6614, 0.7380\n",
      "Epoch 2350, CIFAR-10 Batch 1:  loss and accuracy: 1.6634, 0.7334\n",
      "Epoch 2350, CIFAR-10 Batch 2:  loss and accuracy: 1.6656, 0.7320\n",
      "Epoch 2350, CIFAR-10 Batch 3:  loss and accuracy: 1.6648, 0.7294\n",
      "Epoch 2350, CIFAR-10 Batch 4:  loss and accuracy: 1.6649, 0.7332\n",
      "Epoch 2350, CIFAR-10 Batch 5:  loss and accuracy: 1.6675, 0.7282\n",
      "Epoch 2400, CIFAR-10 Batch 1:  loss and accuracy: 1.6586, 0.7384\n",
      "Epoch 2400, CIFAR-10 Batch 2:  loss and accuracy: 1.6632, 0.7354\n",
      "Epoch 2400, CIFAR-10 Batch 3:  loss and accuracy: 1.6631, 0.7330\n",
      "Epoch 2400, CIFAR-10 Batch 4:  loss and accuracy: 1.6618, 0.7388\n",
      "Epoch 2400, CIFAR-10 Batch 5:  loss and accuracy: 1.6651, 0.7362\n",
      "Epoch 2450, CIFAR-10 Batch 1:  loss and accuracy: 1.6652, 0.7378\n",
      "Epoch 2450, CIFAR-10 Batch 2:  loss and accuracy: 1.6609, 0.7398\n",
      "Epoch 2450, CIFAR-10 Batch 3:  loss and accuracy: 1.6621, 0.7378\n",
      "Epoch 2450, CIFAR-10 Batch 4:  loss and accuracy: 1.6613, 0.7336\n",
      "Epoch 2450, CIFAR-10 Batch 5:  loss and accuracy: 1.6669, 0.7352\n",
      "Epoch 2500, CIFAR-10 Batch 1:  loss and accuracy: 1.6608, 0.7434\n",
      "Epoch 2500, CIFAR-10 Batch 2:  loss and accuracy: 1.6649, 0.7392\n",
      "Epoch 2500, CIFAR-10 Batch 3:  loss and accuracy: 1.6615, 0.7408\n",
      "Epoch 2500, CIFAR-10 Batch 4:  loss and accuracy: 1.6629, 0.7396\n"
     ]
    },
    {
     "name": "stdout",
     "output_type": "stream",
     "text": [
      "Epoch 2500, CIFAR-10 Batch 5:  loss and accuracy: 1.6640, 0.7388\n",
      "Epoch 2550, CIFAR-10 Batch 1:  loss and accuracy: 1.6603, 0.7420\n",
      "Epoch 2550, CIFAR-10 Batch 2:  loss and accuracy: 1.6624, 0.7336\n",
      "Epoch 2550, CIFAR-10 Batch 3:  loss and accuracy: 1.6642, 0.7326\n",
      "Epoch 2550, CIFAR-10 Batch 4:  loss and accuracy: 1.6636, 0.7382\n",
      "Epoch 2550, CIFAR-10 Batch 5:  loss and accuracy: 1.6650, 0.7364\n",
      "Epoch 2600, CIFAR-10 Batch 1:  loss and accuracy: 1.6636, 0.7436\n",
      "Epoch 2600, CIFAR-10 Batch 2:  loss and accuracy: 1.6610, 0.7446\n",
      "Epoch 2600, CIFAR-10 Batch 3:  loss and accuracy: 1.6623, 0.7390\n",
      "Epoch 2600, CIFAR-10 Batch 4:  loss and accuracy: 1.6666, 0.7404\n",
      "Epoch 2600, CIFAR-10 Batch 5:  loss and accuracy: 1.6640, 0.7394\n",
      "Epoch 2650, CIFAR-10 Batch 1:  loss and accuracy: 1.6579, 0.7382\n",
      "Epoch 2650, CIFAR-10 Batch 2:  loss and accuracy: 1.6607, 0.7430\n",
      "Epoch 2650, CIFAR-10 Batch 3:  loss and accuracy: 1.6653, 0.7408\n",
      "Epoch 2650, CIFAR-10 Batch 4:  loss and accuracy: 1.6612, 0.7354\n",
      "Epoch 2650, CIFAR-10 Batch 5:  loss and accuracy: 1.6545, 0.7456\n",
      "Epoch 2700, CIFAR-10 Batch 1:  loss and accuracy: 1.6608, 0.7440\n",
      "Epoch 2700, CIFAR-10 Batch 2:  loss and accuracy: 1.6672, 0.7426\n",
      "Epoch 2700, CIFAR-10 Batch 3:  loss and accuracy: 1.6583, 0.7460\n",
      "Epoch 2700, CIFAR-10 Batch 4:  loss and accuracy: 1.6630, 0.7454\n",
      "Epoch 2700, CIFAR-10 Batch 5:  loss and accuracy: 1.6623, 0.7452\n",
      "Epoch 2750, CIFAR-10 Batch 1:  loss and accuracy: 1.6572, 0.7400\n",
      "Epoch 2750, CIFAR-10 Batch 2:  loss and accuracy: 1.6631, 0.7418\n",
      "Epoch 2750, CIFAR-10 Batch 3:  loss and accuracy: 1.6605, 0.7484\n",
      "Epoch 2750, CIFAR-10 Batch 4:  loss and accuracy: 1.6618, 0.7456\n",
      "Epoch 2750, CIFAR-10 Batch 5:  loss and accuracy: 1.6558, 0.7484\n",
      "Epoch 2800, CIFAR-10 Batch 1:  loss and accuracy: 1.6590, 0.7434\n",
      "Epoch 2800, CIFAR-10 Batch 2:  loss and accuracy: 1.6593, 0.7482\n",
      "Epoch 2800, CIFAR-10 Batch 3:  loss and accuracy: 1.6606, 0.7384\n",
      "Epoch 2800, CIFAR-10 Batch 4:  loss and accuracy: 1.6579, 0.7456\n",
      "Epoch 2800, CIFAR-10 Batch 5:  loss and accuracy: 1.6607, 0.7438\n",
      "Epoch 2850, CIFAR-10 Batch 1:  loss and accuracy: 1.6622, 0.7410\n",
      "Epoch 2850, CIFAR-10 Batch 2:  loss and accuracy: 1.6607, 0.7434\n",
      "Epoch 2850, CIFAR-10 Batch 3:  loss and accuracy: 1.6589, 0.7450\n",
      "Epoch 2850, CIFAR-10 Batch 4:  loss and accuracy: 1.6587, 0.7480\n",
      "Epoch 2850, CIFAR-10 Batch 5:  loss and accuracy: 1.6590, 0.7476\n",
      "Epoch 2900, CIFAR-10 Batch 1:  loss and accuracy: 1.6569, 0.7532\n",
      "Epoch 2900, CIFAR-10 Batch 2:  loss and accuracy: 1.6583, 0.7444\n",
      "Epoch 2900, CIFAR-10 Batch 3:  loss and accuracy: 1.6608, 0.7452\n",
      "Epoch 2900, CIFAR-10 Batch 4:  loss and accuracy: 1.6634, 0.7432\n",
      "Epoch 2900, CIFAR-10 Batch 5:  loss and accuracy: 1.6581, 0.7474\n",
      "Epoch 2950, CIFAR-10 Batch 1:  loss and accuracy: 1.6646, 0.7436\n",
      "Epoch 2950, CIFAR-10 Batch 2:  loss and accuracy: 1.6535, 0.7550\n",
      "Epoch 2950, CIFAR-10 Batch 3:  loss and accuracy: 1.6592, 0.7480\n",
      "Epoch 2950, CIFAR-10 Batch 4:  loss and accuracy: 1.6572, 0.7502\n",
      "Epoch 2950, CIFAR-10 Batch 5:  loss and accuracy: 1.6565, 0.7516\n",
      "Epoch 3000, CIFAR-10 Batch 1:  loss and accuracy: 1.6591, 0.7438\n",
      "Epoch 3000, CIFAR-10 Batch 2:  loss and accuracy: 1.6586, 0.7458\n",
      "Epoch 3000, CIFAR-10 Batch 3:  loss and accuracy: 1.6600, 0.7484\n",
      "Epoch 3000, CIFAR-10 Batch 4:  loss and accuracy: 1.6602, 0.7466\n",
      "Epoch 3000, CIFAR-10 Batch 5:  loss and accuracy: 1.6577, 0.7490\n"
     ]
    }
   ],
   "source": [
    "\"\"\"\n",
    "DON'T MODIFY ANYTHING IN THIS CELL\n",
    "\"\"\"\n",
    "save_model_path = './image_classification'\n",
    "\n",
    "print('Training...')\n",
    "with tf.Session() as sess:\n",
    "    # Initializing the variables\n",
    "    sess.run(tf.global_variables_initializer())\n",
    "    \n",
    "    # Training cycle\n",
    "    for epoch in range(epochs):\n",
    "        # Loop over all batches\n",
    "        n_batches = 5\n",
    "        for batch_i in range(1, n_batches + 1):\n",
    "            for batch_features, batch_labels in helper.load_preprocess_training_batch(batch_i, batch_size):\n",
    "                train_neural_network(sess, optimizer, keep_probability, batch_features, batch_labels)\n",
    "            # print the evaluation result every 50 epoch\n",
    "            if(epoch + 1 == 1 or (epoch + 1) % 50 == 0):\n",
    "                print('Epoch {:>2}, CIFAR-10 Batch {}:  '.format(epoch + 1, batch_i), end='')\n",
    "                print_stats(sess, valid_features, valid_labels, cost, accuracy)\n",
    "            \n",
    "    # Save Model\n",
    "    saver = tf.train.Saver()\n",
    "    save_path = saver.save(sess, save_model_path)"
   ]
  },
  {
   "cell_type": "code",
   "execution_count": null,
   "metadata": {
    "collapsed": true
   },
   "outputs": [],
   "source": [
    "*Note*: \"\"\"In order to show the training results more clearly, I add a piece of code to show the evaluation \n",
    "accuracy data on validation dataset every 50 epoch, which I believe does not influence the training progress\"\"\""
   ]
  },
  {
   "cell_type": "markdown",
   "metadata": {},
   "source": [
    "# Checkpoint\n",
    "The model has been saved to disk.\n",
    "## Test Model\n",
    "Test your model against the test dataset.  This will be your final accuracy. You should have an accuracy greater than 50%. If you don't, keep tweaking the model architecture and parameters."
   ]
  },
  {
   "cell_type": "code",
   "execution_count": 23,
   "metadata": {},
   "outputs": [
    {
     "name": "stdout",
     "output_type": "stream",
     "text": [
      "INFO:tensorflow:Restoring parameters from ./image_classification\n",
      "Testing Accuracy: 0.74111328125\n",
      "\n"
     ]
    },
    {
     "data": {
      "image/png": "[encoded data removed]",
      "text/plain": [
       "<matplotlib.figure.Figure at 0x7f9c6870ac18>"
      ]
     },
     "metadata": {
      "image/png": {
       "height": 319,
       "width": 355
      }
     },
     "output_type": "display_data"
    }
   ],
   "source": [
    "\"\"\"\n",
    "DON'T MODIFY ANYTHING IN THIS CELL\n",
    "\"\"\"\n",
    "%matplotlib inline\n",
    "%config InlineBackend.figure_format = 'retina'\n",
    "\n",
    "import tensorflow as tf\n",
    "import pickle\n",
    "import helper\n",
    "import random\n",
    "\n",
    "# Set batch size if not already set\n",
    "try:\n",
    "    if batch_size:\n",
    "        pass\n",
    "except NameError:\n",
    "    batch_size = 64\n",
    "\n",
    "save_model_path = './image_classification'\n",
    "n_samples = 4\n",
    "top_n_predictions = 3\n",
    "\n",
    "def test_model():\n",
    "    \"\"\"\n",
    "    Test the saved model against the test dataset\n",
    "    \"\"\"\n",
    "\n",
    "    test_features, test_labels = pickle.load(open('preprocess_training.p', mode='rb'))\n",
    "    loaded_graph = tf.Graph()\n",
    "\n",
    "    with tf.Session(graph=loaded_graph) as sess:\n",
    "        # Load model\n",
    "        loader = tf.train.import_meta_graph(save_model_path + '.meta')\n",
    "        loader.restore(sess, save_model_path)\n",
    "\n",
    "        # Get Tensors from loaded model\n",
    "        loaded_x = loaded_graph.get_tensor_by_name('x:0')\n",
    "        loaded_y = loaded_graph.get_tensor_by_name('y:0')\n",
    "        loaded_keep_prob = loaded_graph.get_tensor_by_name('keep_prob:0')\n",
    "        loaded_logits = loaded_graph.get_tensor_by_name('logits:0')\n",
    "        loaded_acc = loaded_graph.get_tensor_by_name('accuracy:0')\n",
    "        \n",
    "        # Get accuracy in batches for memory limitations\n",
    "        test_batch_acc_total = 0\n",
    "        test_batch_count = 0\n",
    "        \n",
    "        for train_feature_batch, train_label_batch in helper.batch_features_labels(test_features, test_labels, batch_size):\n",
    "            test_batch_acc_total += sess.run(\n",
    "                loaded_acc,\n",
    "                feed_dict={loaded_x: train_feature_batch, loaded_y: train_label_batch, loaded_keep_prob: 1.0})\n",
    "            test_batch_count += 1\n",
    "\n",
    "        print('Testing Accuracy: {}\\n'.format(test_batch_acc_total/test_batch_count))\n",
    "\n",
    "        # Print Random Samples\n",
    "        random_test_features, random_test_labels = tuple(zip(*random.sample(list(zip(test_features, test_labels)), n_samples)))\n",
    "        random_test_predictions = sess.run(\n",
    "            tf.nn.top_k(tf.nn.softmax(loaded_logits), top_n_predictions),\n",
    "            feed_dict={loaded_x: random_test_features, loaded_y: random_test_labels, loaded_keep_prob: 1.0})\n",
    "        helper.display_image_predictions(random_test_features, random_test_labels, random_test_predictions)\n",
    "\n",
    "\n",
    "test_model()"
   ]
  },
  {
   "cell_type": "markdown",
   "metadata": {},
   "source": [
    "## Why 50-80% Accuracy?\n",
    "You might be wondering why you can't get an accuracy any higher. First things first, 50% isn't bad for a simple CNN.  Pure guessing would get you 10% accuracy. That's because there are many more techniques that can be applied to your model and we recemmond that once you are done with this project, you explore!\n",
    "\n",
    "## Submitting This Project\n",
    "When submitting this project, make sure to run all the cells before saving the notebook.  Save the notebook file as \"dlnd_image_classification.ipynb\" and save it as a HTML file under \"File\" -> \"Download as\".  Include the \"helper.py\" and \"problem_unittests.py\" files in your submission."
   ]
  },
  {
   "cell_type": "code",
   "execution_count": null,
   "metadata": {
    "collapsed": true
   },
   "outputs": [],
   "source": []
  }
 ],
 "metadata": {
  "kernelspec": {
   "display_name": "tf-gpu-3.0",
   "language": "python",
   "name": "tf-gpu-3.0"
  },
  "language_info": {
   "codemirror_mode": {
    "name": "ipython",
    "version": 3
   },
   "file_extension": ".py",
   "mimetype": "text/x-python",
   "name": "python",
   "nbconvert_exporter": "python",
   "pygments_lexer": "ipython3",
   "version": "3.5.2"
  }
 },
 "nbformat": 4,
 "nbformat_minor": 1
}
